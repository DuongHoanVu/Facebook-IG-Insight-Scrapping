{
 "cells": [
  {
   "cell_type": "markdown",
   "metadata": {},
   "source": [
    "# LIBRARY"
   ]
  },
  {
   "cell_type": "code",
   "execution_count": 113,
   "metadata": {},
   "outputs": [],
   "source": [
    "import numpy as np\n",
    "import pandas as pd\n",
    "import json\n",
    "\n",
    "import matplotlib.pyplot as plt\n",
    "%matplotlib inline\n",
    "import seaborn as sns\n",
    "\n",
    "# APPROACH 1\n",
    "from selenium import webdriver\n",
    "from selenium.webdriver.common.keys import Keys\n",
    "import time\n",
    "PATH = 'C:/Users/JamesDuong/Downloads/chromedriver_win32/chromedriver.exe'\n",
    "# or put this chromedriver.exe into c:\\users\\jamesduong\\.conda\\envs\\1\\Scripts"
   ]
  },
  {
   "cell_type": "code",
   "execution_count": 114,
   "metadata": {
    "scrolled": true
   },
   "outputs": [],
   "source": [
    "# Website Connection to Creator Studio\n",
    "data_source = \"https://business.facebook.com/creatorstudio/\"\n",
    "driver = webdriver.Chrome(PATH)\n",
    "driver.get(data_source)\n",
    "\n",
    "# Login\n",
    "driver.find_element_by_xpath('//*[@id=\"u_0_0\"]/div[2]/div/div[2]/div/div/div/div[2]/div/div/span/div/div').click()\n",
    "time.sleep(1)\n",
    "\n",
    "username = 'duonghoanvu1@yahoo.com.vn'\n",
    "password = 'PWD'\n",
    "driver.find_element_by_xpath('//*[@id=\"email\"]').send_keys(username)\n",
    "driver.find_element_by_xpath('//*[@id=\"pass\"]').send_keys(password)\n",
    "driver.find_element_by_xpath('//*[@id=\"loginbutton\"]').click()\n",
    "time.sleep(1)\n",
    "\n",
    "# driver.find_element_by_xpath('//*[@id=\"mediaManagerPagesSelector\"]/div[3]').click()\n",
    "# time.sleep(1)\n",
    "\n",
    "# driver.find_element_by_partial_link_text('Unselect All').click()\n",
    "# time.sleep(1)\n",
    "\n",
    "# ID = driver.find_element_by_class_name('uiScrollableAreaWrap').get_attribute('id')\n",
    "# string = '//*[@id=\"{}\"]/div/div/div/div[2]'.format(ID)\n",
    "# driver.find_element_by_xpath(string).click()\n",
    "# time.sleep(1)\n",
    "\n",
    "# driver.find_element_by_xpath('//*[@id=\"globalContainer\"]/div[2]/div/div/div/div/div/div[4]/div[2]/div/span/div/div/div').click()\n",
    "# time.sleep(1)"
   ]
  },
  {
   "cell_type": "code",
   "execution_count": 115,
   "metadata": {},
   "outputs": [],
   "source": [
    "# Select IG icon\n",
    "driver.find_element_by_xpath('//*[@id=\"media_manager_chrome_bar_instagram_icon\"]').click()\n",
    "time.sleep(1)"
   ]
  },
  {
   "cell_type": "code",
   "execution_count": 116,
   "metadata": {},
   "outputs": [],
   "source": [
    "# Clicking on ManagerPageSelector button\n",
    "ManagerPageSelector_path = '//*[@id=\"tabHeader\"]/div/div[3]/i'\n",
    "driver.find_element_by_xpath(ManagerPageSelector_path).click()"
   ]
  },
  {
   "cell_type": "code",
   "execution_count": 117,
   "metadata": {
    "scrolled": true
   },
   "outputs": [],
   "source": [
    "# Clicking on Unselect All\n",
    "driver.find_element_by_partial_link_text('Unselect All').click()"
   ]
  },
  {
   "cell_type": "code",
   "execution_count": 118,
   "metadata": {},
   "outputs": [],
   "source": [
    "# Choosing the targeted profile\n",
    "\n",
    "# div[1] = gopopcorn\n",
    "# div[2] = duonghoanvu1\n",
    "# if user wants to check profiles for analysis, write for lop to check profile_path .text with their input, company name\n",
    "\n",
    "try:\n",
    "    profile_path = '/html/body/div[1]/div/div[2]/div[3]/div/div/div/div/div/div[3]/div[1]/div/div/div/div[1]/div[1]'\n",
    "    driver.find_element_by_xpath(profile_path).click()\n",
    "\n",
    "except:\n",
    "    profile_path = '/html/body/div[1]/div/div[2]/div[2]/div/div/div/div/div/div[3]/div[1]/div/div/div/div[1]/div[1]'\n",
    "    driver.find_element_by_xpath(profile_path).click()\n",
    "\n",
    "#small_box.find_element_by_xpath(\"//*[contains(text(), 'gopopcorn')]\").text"
   ]
  },
  {
   "cell_type": "code",
   "execution_count": 119,
   "metadata": {},
   "outputs": [],
   "source": [
    "try:\n",
    "    view_path = '//*[@id=\"globalContainer\"]/div[3]/div/div/div/div/div/div[4]/div[2]/div/span/div/div/div'\n",
    "    driver.find_element_by_xpath(view_path).click()\n",
    "except:\n",
    "    view_path = '//*[@id=\"globalContainer\"]/div[2]/div/div/div/div/div/div[4]/div[2]/div/span/div/div/div'\n",
    "    driver.find_element_by_xpath(view_path).click()"
   ]
  },
  {
   "cell_type": "markdown",
   "metadata": {},
   "source": [
    "# Extract Data from each Photo"
   ]
  },
  {
   "cell_type": "code",
   "execution_count": 120,
   "metadata": {},
   "outputs": [],
   "source": [
    "# photo_full_path = //*[@id=\"u_0_1\"]/div/div[2]/div[1]/div[3]/div/div/div[1]/div/div[3]\n",
    "try:\n",
    "    driver.find_element_by_link_text('Photo').click()\n",
    "except:\n",
    "    driver.find_element_by_css_selector('div[aria-label=\"Photo\"]').click()"
   ]
  },
  {
   "cell_type": "code",
   "execution_count": 121,
   "metadata": {
    "scrolled": true
   },
   "outputs": [],
   "source": [
    "# post_status\n",
    "post_status_class_name = '_1e'\n",
    "driver.find_element_by_class_name(post_status_class_name).click()"
   ]
  },
  {
   "cell_type": "code",
   "execution_count": 122,
   "metadata": {
    "scrolled": true
   },
   "outputs": [],
   "source": [
    "# post_status options: published\n",
    "post_status_option_class_name = '_3leq'\n",
    "All, Published, Scheduled, Draft, Archived = 0,1,2,3,4\n",
    "driver.find_elements_by_class_name('_3leq')[Published].click()"
   ]
  },
  {
   "cell_type": "code",
   "execution_count": 123,
   "metadata": {},
   "outputs": [],
   "source": [
    "# All time\n",
    "all_time_class_name = '_1uz0'\n",
    "driver.find_element_by_class_name('_1uz0').click()"
   ]
  },
  {
   "cell_type": "code",
   "execution_count": 124,
   "metadata": {
    "scrolled": true
   },
   "outputs": [],
   "source": [
    "# alternative: driver.find_element_by_xpath('//ul[@role=\"menu\"]')\n",
    "whole_option_class = '_rcb'\n",
    "each_option_class = '_rce'\n",
    "[days_7, days_28, days_90, this_month, this_quarter, all_time, custom] = [i for i in range(7)]\n",
    "\n",
    "driver.find_element_by_class_name('_rcb').find_elements_by_class_name(each_option_class)[days_90].click()"
   ]
  },
  {
   "cell_type": "code",
   "execution_count": 125,
   "metadata": {},
   "outputs": [
    {
     "name": "stdout",
     "output_type": "stream",
     "text": [
      "0\n"
     ]
    }
   ],
   "source": [
    "# Scroll page\n",
    "lenOfPage = driver.execute_script('window.scrollTo(0, document.body.scrollHeight); var lenOfPage=document.body.scrollHeight; return lenOfPage;')\n",
    "match=False\n",
    "\n",
    "i = 0\n",
    "while(match==False):\n",
    "        lastCount = lenOfPage\n",
    "        \n",
    "        lenOfPage = driver.execute_script('window.scrollTo(0, document.body.scrollHeight); var lenOfPage=document.body.scrollHeight; return lenOfPage;')\n",
    "        \n",
    "        time.sleep(1.5)\n",
    "        \n",
    "        if lastCount == lenOfPage:\n",
    "            if i < 1:\n",
    "                time.sleep(1)\n",
    "                if lastCount == lenOfPage:\n",
    "                    break\n",
    "                continue\n",
    "            \n",
    "            match=True\n",
    "        \n",
    "        i += 1\n",
    "        if i == 1:\n",
    "            break\n",
    "\n",
    "print(i)"
   ]
  },
  {
   "cell_type": "code",
   "execution_count": 126,
   "metadata": {},
   "outputs": [
    {
     "data": {
      "text/plain": [
       "[<selenium.webdriver.remote.webelement.WebElement (session=\"15415014a206d4c4224377609610b29e\", element=\"9f7725e4-22a8-4703-a8a7-1b2d2628b3ba\")>,\n",
       " <selenium.webdriver.remote.webelement.WebElement (session=\"15415014a206d4c4224377609610b29e\", element=\"471eb5b8-7654-4392-8e8f-b0065d949c7b\")>]"
      ]
     },
     "execution_count": 126,
     "metadata": {},
     "output_type": "execute_result"
    }
   ],
   "source": [
    "post_class_name_path = '_1ug5'\n",
    "posts = driver.find_elements_by_class_name(post_class_name_path)\n",
    "posts[:2]"
   ]
  },
  {
   "cell_type": "code",
   "execution_count": 127,
   "metadata": {},
   "outputs": [],
   "source": [
    "post_details = {'image_url':[],\n",
    "                'reach':[],\n",
    "                'likes':[],\n",
    "                'comments':[],\n",
    "                'interactions':[],\n",
    "                'impressions':[],\n",
    "                'date':[]}\n",
    "\n",
    "def extract_post_details(posts):\n",
    "    for post in posts:\n",
    "        post.click()\n",
    "        time.sleep(1)\n",
    "\n",
    "        #date_path = '//*[@id=\"creator_studio_sliding_tray_root\"]/div/div/div[2]/div[1]/div/div[3]/span'\n",
    "        #date = post.find_element_by_xpath(date_path).text\n",
    "        date_path = '//*[@id=\"creator_studio_sliding_tray_root\"]/div/div/div[1]/div[2]/div[2]/div[2]/div/span'\n",
    "        date = posts[0].find_element_by_xpath(date_path).text\n",
    "        date = date.replace('Published on ', '')\n",
    "        date = pd.to_datetime(date)\n",
    "\n",
    "        \n",
    "        like_path = '//*[@id=\"creator_studio_sliding_tray_root\"]/div/div/div[2]/div[2]/div[2]/div[2]/div/div[1]/div/strong'\n",
    "        likes = int(post.find_element_by_xpath(like_path).text)\n",
    "        \n",
    "        comment_path = '//*[@id=\"creator_studio_sliding_tray_root\"]/div/div/div[2]/div[2]/div[2]/div[2]/div/div[2]/div/div/strong'\n",
    "        comments = int(post.find_element_by_xpath(comment_path).text)\n",
    "        \n",
    "        reach_path = '//*[@id=\"creator_studio_sliding_tray_root\"]/div/div/div[2]/div[2]/div[4]/div[4]/div/div[2]/strong'\n",
    "        reach = int(post.find_element_by_xpath(reach_path).text)\n",
    "        \n",
    "        impression_path = '//*[@id=\"creator_studio_sliding_tray_root\"]/div/div/div[2]/div[2]/div[4]/div[5]/div[1]/div[2]/strong'\n",
    "        impressions = int(post.find_element_by_xpath(impression_path).text)\n",
    "        \n",
    "        interaction_path = '//*[@id=\"creator_studio_sliding_tray_root\"]/div/div/div[2]/div[2]/div[3]/div[2]/div/span[1]'\n",
    "        interactions = int(post.find_element_by_xpath(interaction_path).text)\n",
    "        \n",
    "        engagements = likes + comments + interactions\n",
    "        \n",
    "        image_path = '//*[@id=\"creator_studio_sliding_tray_root\"]/div/div/div[2]/div[1]/div/div[2]/div/img'\n",
    "        image_url = driver.find_element_by_xpath(image_path).get_attribute('src')\n",
    "\n",
    "        close_tab = '//*[@id=\"creator_studio_sliding_tray_root\"]/div/div/div[1]/div[1]/i'\n",
    "        post.find_element_by_xpath(close_tab).click()\n",
    "        \n",
    "        post_details['image_url'].append(image_url)\n",
    "        post_details['reach'].append(reach)\n",
    "        post_details['likes'].append(likes)\n",
    "        post_details['comments'].append(comments)\n",
    "        post_details['interactions'].append(interactions)\n",
    "        post_details['impressions'].append(impressions)\n",
    "        post_details['date'].append(date)\n"
   ]
  },
  {
   "cell_type": "code",
   "execution_count": 128,
   "metadata": {
    "scrolled": false
   },
   "outputs": [],
   "source": [
    "extract_post_details(posts)"
   ]
  },
  {
   "cell_type": "code",
   "execution_count": 129,
   "metadata": {},
   "outputs": [
    {
     "data": {
      "text/plain": [
       "5"
      ]
     },
     "execution_count": 129,
     "metadata": {},
     "output_type": "execute_result"
    }
   ],
   "source": [
    "len(post_details['image_url'])"
   ]
  },
  {
   "cell_type": "code",
   "execution_count": 130,
   "metadata": {
    "scrolled": true
   },
   "outputs": [],
   "source": [
    "df = pd.DataFrame(data=post_details)"
   ]
  },
  {
   "cell_type": "markdown",
   "metadata": {},
   "source": [
    "# EXCEL"
   ]
  },
  {
   "cell_type": "code",
   "execution_count": 150,
   "metadata": {},
   "outputs": [
    {
     "data": {
      "text/html": [
       "<div>\n",
       "<style scoped>\n",
       "    .dataframe tbody tr th:only-of-type {\n",
       "        vertical-align: middle;\n",
       "    }\n",
       "\n",
       "    .dataframe tbody tr th {\n",
       "        vertical-align: top;\n",
       "    }\n",
       "\n",
       "    .dataframe thead th {\n",
       "        text-align: right;\n",
       "    }\n",
       "</style>\n",
       "<table border=\"1\" class=\"dataframe\">\n",
       "  <thead>\n",
       "    <tr style=\"text-align: right;\">\n",
       "      <th></th>\n",
       "      <th>image_url</th>\n",
       "      <th>reach</th>\n",
       "      <th>likes</th>\n",
       "      <th>comments</th>\n",
       "      <th>interactions</th>\n",
       "      <th>impressions</th>\n",
       "      <th>date</th>\n",
       "    </tr>\n",
       "  </thead>\n",
       "  <tbody>\n",
       "    <tr>\n",
       "      <th>0</th>\n",
       "      <td>https://scontent.cdninstagram.com/v/t51.2885-1...</td>\n",
       "      <td>356</td>\n",
       "      <td>37</td>\n",
       "      <td>3</td>\n",
       "      <td>2</td>\n",
       "      <td>395</td>\n",
       "      <td>2020-10-19 12:01:00</td>\n",
       "    </tr>\n",
       "    <tr>\n",
       "      <th>1</th>\n",
       "      <td>https://scontent.cdninstagram.com/v/t51.2885-1...</td>\n",
       "      <td>361</td>\n",
       "      <td>38</td>\n",
       "      <td>1</td>\n",
       "      <td>5</td>\n",
       "      <td>386</td>\n",
       "      <td>2020-10-10 09:02:00</td>\n",
       "    </tr>\n",
       "    <tr>\n",
       "      <th>2</th>\n",
       "      <td>https://scontent.cdninstagram.com/v/t51.2885-1...</td>\n",
       "      <td>440</td>\n",
       "      <td>67</td>\n",
       "      <td>3</td>\n",
       "      <td>8</td>\n",
       "      <td>513</td>\n",
       "      <td>2020-10-01 12:02:00</td>\n",
       "    </tr>\n",
       "    <tr>\n",
       "      <th>3</th>\n",
       "      <td>https://scontent.cdninstagram.com/v/t51.2885-1...</td>\n",
       "      <td>826</td>\n",
       "      <td>120</td>\n",
       "      <td>9</td>\n",
       "      <td>69</td>\n",
       "      <td>990</td>\n",
       "      <td>2020-08-12 11:01:00</td>\n",
       "    </tr>\n",
       "    <tr>\n",
       "      <th>4</th>\n",
       "      <td>https://scontent.cdninstagram.com/v/t51.2885-1...</td>\n",
       "      <td>468</td>\n",
       "      <td>41</td>\n",
       "      <td>3</td>\n",
       "      <td>5</td>\n",
       "      <td>535</td>\n",
       "      <td>2020-07-31 11:01:00</td>\n",
       "    </tr>\n",
       "  </tbody>\n",
       "</table>\n",
       "</div>"
      ],
      "text/plain": [
       "                                           image_url  reach  likes  comments  \\\n",
       "0  https://scontent.cdninstagram.com/v/t51.2885-1...    356     37         3   \n",
       "1  https://scontent.cdninstagram.com/v/t51.2885-1...    361     38         1   \n",
       "2  https://scontent.cdninstagram.com/v/t51.2885-1...    440     67         3   \n",
       "3  https://scontent.cdninstagram.com/v/t51.2885-1...    826    120         9   \n",
       "4  https://scontent.cdninstagram.com/v/t51.2885-1...    468     41         3   \n",
       "\n",
       "   interactions  impressions                date  \n",
       "0             2          395 2020-10-19 12:01:00  \n",
       "1             5          386 2020-10-10 09:02:00  \n",
       "2             8          513 2020-10-01 12:02:00  \n",
       "3            69          990 2020-08-12 11:01:00  \n",
       "4             5          535 2020-07-31 11:01:00  "
      ]
     },
     "execution_count": 150,
     "metadata": {},
     "output_type": "execute_result"
    }
   ],
   "source": [
    "IG_df = df\n",
    "IG_df"
   ]
  },
  {
   "cell_type": "code",
   "execution_count": 158,
   "metadata": {
    "scrolled": true
   },
   "outputs": [
    {
     "name": "stdout",
     "output_type": "stream",
     "text": [
      "111\n"
     ]
    }
   ],
   "source": [
    "from pathlib import Path\n",
    "\n",
    "# Check if a report file exist\n",
    "my_file = Path(\"./report1.xlsx\")\n",
    "if my_file.is_file() == False:\n",
    "    writer = pd.ExcelWriter('report1.xlsx', engine='xlsxwriter')\n",
    "    pd.DataFrame().to_excel(writer, sheet_name='FB')\n",
    "    pd.DataFrame().to_excel(writer, sheet_name='IG')\n",
    "    writer.save()\n",
    "\n",
    "elif my_file.is_file() == True:\n",
    "    with pd.ExcelWriter('report1.xlsx') as writer:\n",
    "        FB_sheet = pd.read_excel(open('report1.xlsx', 'rb'), sheet_name='FB')\n",
    "        IG_sheet = pd.read_excel(open('report1.xlsx', 'rb'), sheet_name='IG')\n",
    "        \n",
    "        FB_sheet.to_excel(writer, sheet_name='FB')\n",
    "        IG_df.to_excel(writer, sheet_name='IG')    \n",
    "        print(111)"
   ]
  },
  {
   "cell_type": "code",
   "execution_count": 147,
   "metadata": {},
   "outputs": [
    {
     "data": {
      "text/plain": [
       "False"
      ]
     },
     "execution_count": 147,
     "metadata": {},
     "output_type": "execute_result"
    }
   ],
   "source": [
    "my_file.is_file()"
   ]
  },
  {
   "cell_type": "markdown",
   "metadata": {},
   "source": [
    "# POWERPOINT"
   ]
  },
  {
   "cell_type": "code",
   "execution_count": 131,
   "metadata": {},
   "outputs": [],
   "source": [
    "from pptx import Presentation\n",
    "from pptx.util import Inches\n",
    "from PIL import Image\n",
    "\n",
    "import os"
   ]
  },
  {
   "cell_type": "code",
   "execution_count": 132,
   "metadata": {},
   "outputs": [],
   "source": [
    "def powerpoint_post_detail(text_frame, i):\n",
    "    \n",
    "    general_line = text_frame.text = 'Post Details'\n",
    "    \n",
    "    child_paragraph = text_frame.add_paragraph()\n",
    "    child_paragraph.text = 'Reach: ' + str(df.loc[i]['reach']) \n",
    "    child_paragraph.level = 1\n",
    "    \n",
    "    child_paragraph = text_frame.add_paragraph()\n",
    "    child_paragraph.text = 'likes: ' + str(df.loc[i]['likes']) \n",
    "    child_paragraph.level = 1\n",
    "    \n",
    "    child_paragraph = text_frame.add_paragraph()\n",
    "    child_paragraph.text = 'comments: ' + str(df.loc[i]['comments']) \n",
    "    child_paragraph.level = 1\n",
    "    \n",
    "    child_paragraph = text_frame.add_paragraph()\n",
    "    child_paragraph.text = 'interactions: ' + str(df.loc[i]['interactions']) \n",
    "    child_paragraph.level = 1\n",
    "    \n",
    "    child_paragraph = text_frame.add_paragraph()\n",
    "    child_paragraph.text = 'impressions: ' + str(df.loc[i]['impressions']) \n",
    "    child_paragraph.level = 1\n",
    "    \n",
    "    child_paragraph = text_frame.add_paragraph()\n",
    "    child_paragraph.text = 'date: ' + str(df.loc[i]['date']) \n",
    "    child_paragraph.level = 1"
   ]
  },
  {
   "cell_type": "markdown",
   "metadata": {},
   "source": [
    "### Image Resize"
   ]
  },
  {
   "cell_type": "code",
   "execution_count": 134,
   "metadata": {},
   "outputs": [],
   "source": [
    "basewidth = 300\n",
    "\n",
    "for i in range (1,len(df)+1):\n",
    "    img = Image.open('{}.jpg'.format(i))\n",
    "    wpercent = (basewidth/float(img.size[0]))\n",
    "    hsize = int((float(img.size[1])*float(wpercent)))\n",
    "    img = img.resize((basewidth,hsize), Image.ANTIALIAS)\n",
    "    img.save('{}.jpg'.format(i))"
   ]
  },
  {
   "cell_type": "markdown",
   "metadata": {},
   "source": [
    "### Load data to Deck"
   ]
  },
  {
   "cell_type": "code",
   "execution_count": 133,
   "metadata": {},
   "outputs": [],
   "source": [
    "prs = Presentation()\n",
    "\n",
    "\n",
    "# First Page = Title Slide \n",
    "layout = prs.slide_layouts[5]\n",
    "slide = prs.slides.add_slide(layout)\n",
    "title = slide.shapes.title.text = \"OUR CLIENT\"\n",
    "\n",
    "\n",
    "for i in range (1, len(df)+1):\n",
    "    layout = prs.slide_layouts[5]\n",
    "    slide = prs.slides.add_slide(layout)\n",
    "    title = slide.shapes.title.text = \"Image {}\".format(i)\n",
    "    \n",
    "    left = width = height = Inches(1)\n",
    "    top = Inches(2)\n",
    "\n",
    "    text_frame = slide.shapes.add_textbox(left, top, width, height).text_frame\n",
    "    powerpoint_post_detail(text_frame, i-1)\n",
    "\n",
    "    left = Inches(6)\n",
    "    picture_frame = slide.shapes.add_picture('{}.jpg'.format(i), left, top)\n",
    "\n",
    "\n",
    "prs.save('testPres1.pptx')\n",
    "os.startfile(\"testPres1.pptx\")"
   ]
  },
  {
   "cell_type": "markdown",
   "metadata": {},
   "source": [
    "# Download Images"
   ]
  },
  {
   "cell_type": "code",
   "execution_count": 76,
   "metadata": {},
   "outputs": [],
   "source": [
    "# Approach 1\n",
    "# import urllib.request\n",
    "# import time\n",
    "# start_time = time.time()\n",
    "# print(\"--- %s seconds ---\" % (time.time() - start_time))\n",
    "\n",
    "# img_source = 'https://scontent.cdninstagram.com/v/t51.2885-15/122385520_720695255520540_6499988789390174846_n.jpg?_nc_cat=109&_nc_sid=8ae9d6&_nc_ohc=mWuhj6xTYsoAX9qO3gs&_nc_ht=scontent.cdninstagram.com&oh=0a12222b4d0c85df1108a9e34cc8cc1c&oe=5FB79C38'\n",
    "# image_url = img_source\n",
    "# urllib.request.urlretrieve(img_source, '{}.jpg'.format(1))\n",
    "\n",
    "\n",
    "\n",
    "# Approach 2\n",
    "# import requests\n",
    "# img_data = requests.get(img_source).content\n",
    "# with open('image_name.jpg', 'wb') as handler:\n",
    "#     handler.write(img_data)"
   ]
  },
  {
   "cell_type": "code",
   "execution_count": null,
   "metadata": {},
   "outputs": [],
   "source": []
  }
 ],
 "metadata": {
  "kernelspec": {
   "display_name": "Python 3",
   "language": "python",
   "name": "python3"
  },
  "language_info": {
   "codemirror_mode": {
    "name": "ipython",
    "version": 3
   },
   "file_extension": ".py",
   "mimetype": "text/x-python",
   "name": "python",
   "nbconvert_exporter": "python",
   "pygments_lexer": "ipython3",
   "version": "3.8.5"
  }
 },
 "nbformat": 4,
 "nbformat_minor": 4
}
